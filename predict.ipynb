{
 "cells": [
  {
   "cell_type": "code",
   "execution_count": null,
   "metadata": {},
   "outputs": [],
   "source": [
    "import joblib\n",
    "import numpy as np\n",
    "\n",
    "model_filename = 'lasso_model.pkl'\n",
    "scaler_filename = 'scaler.pkl'\n",
    "\n",
    "# Загрузка модели и стандартизатора\n",
    "loaded_model = joblib.load(model_filename)\n",
    "loaded_scaler = joblib.load(scaler_filename)\n",
    "\n",
    "# Функция для предсказания группы\n",
    "def predict_group(features):\n",
    "    \"\"\"\n",
    "    Функция принимает на вход признаки пациента (в виде массива или списка),\n",
    "    стандартизирует их и возвращает предсказанную группу (0 или 1).\n",
    "    \n",
    "    Параметры:\n",
    "    features (list или numpy array): Признаки пациента (должны быть в том же порядке, что и в обучающих данных).\n",
    "    \n",
    "    Возвращает:\n",
    "    int: Предсказанная группа (0 или 1).\n",
    "    \"\"\"\n",
    "    # Преобразование входных данных в numpy array\n",
    "    features_array = np.array(features).reshape(1, -1)  # reshape для одного образца\n",
    "    \n",
    "    # Стандартизация признаков\n",
    "    features_scaled = loaded_scaler.transform(features_array)\n",
    "    \n",
    "    # Предсказание группы\n",
    "    predicted_group = loaded_model.predict(features_scaled)\n",
    "    \n",
    "    return predicted_group[0]  # Возвращаем первый элемент (предсказание для одного образца)\n",
    "\n",
    "# Пример использования функции\n",
    "# Предположим, у нас есть признаки нового пациента\n",
    "new_patient_features = [1.2, 0.5, -0.3, 0.7, ...]  # Замените на реальные значения признаков\n",
    "\n",
    "# Предсказание группы\n",
    "predicted_group = predict_group(new_patient_features)\n",
    "print(f\"Предсказанная группа для нового пациента: {predicted_group}\")"
   ]
  }
 ],
 "metadata": {
  "kernelspec": {
   "display_name": ".venv",
   "language": "python",
   "name": "python3"
  },
  "language_info": {
   "codemirror_mode": {
    "name": "ipython",
    "version": 3
   },
   "file_extension": ".py",
   "mimetype": "text/x-python",
   "name": "python",
   "nbconvert_exporter": "python",
   "pygments_lexer": "ipython3",
   "version": "3.12.3"
  }
 },
 "nbformat": 4,
 "nbformat_minor": 2
}
