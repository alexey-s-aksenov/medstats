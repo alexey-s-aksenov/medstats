{
 "cells": [
  {
   "cell_type": "code",
   "execution_count": null,
   "metadata": {},
   "outputs": [],
   "source": [
    "import pandas as pd\n",
    "from scipy import stats"
   ]
  },
  {
   "cell_type": "code",
   "execution_count": null,
   "metadata": {},
   "outputs": [],
   "source": [
    "# Чтение файла CSV\n",
    "# df = pd.read_excel('statistics.xlsm')\n",
    "df = pd.read_csv('data/statistics.scv')\n",
    "df.dropna(thresh=50,inplace=True)\n",
    "df.dropna(thresh=50,axis=1,inplace=True)\n",
    "df.drop(['№','ФИО','номер карты'], axis=1,inplace=True)\n",
    "print(df.shape)\n",
    "df['код диагноза']= df['код диагноза'].str.replace('C56','1')\n",
    "df['код диагноза']= df['код диагноза'].str.replace('D27','0')\n",
    "df['код диагноза']= df['код диагноза'].astype(int)\n",
    "# удаляем из df все строки, содержащие NaN в каждой из колонок"
   ]
  },
  {
   "cell_type": "code",
   "execution_count": null,
   "metadata": {},
   "outputs": [],
   "source": [
    "df.head()"
   ]
  },
  {
   "cell_type": "code",
   "execution_count": null,
   "metadata": {},
   "outputs": [],
   "source": [
    "df.dtypes"
   ]
  },
  {
   "cell_type": "code",
   "execution_count": null,
   "metadata": {},
   "outputs": [],
   "source": [
    "group_column = 'код диагноза'\n",
    "groups = df[group_column].unique()\n",
    "\n"
   ]
  },
  {
   "cell_type": "code",
   "execution_count": null,
   "metadata": {},
   "outputs": [],
   "source": [
    "from sklearn.model_selection import train_test_split\n",
    "from sklearn.linear_model import LogisticRegression\n",
    "from sklearn.preprocessing import StandardScaler\n",
    "from sklearn.metrics import accuracy_score, roc_auc_score, confusion_matrix\n",
    "import matplotlib.pyplot as plt\n",
    "import seaborn as sns"
   ]
  },
  {
   "cell_type": "code",
   "execution_count": null,
   "metadata": {},
   "outputs": [],
   "source": [
    "# Разделение на признаки и целевую переменную\n",
    "X = df.drop('код диагноза', axis=1)  # Признаки\n",
    "y = df['код диагноза']  # Целевая переменная (группа 0 или 1)\n",
    "\n",
    "# Разделение на обучающую и тестовую выборки\n",
    "X_train, X_test, y_train, y_test = train_test_split(X, y, test_size=0.2, random_state=42)\n"
   ]
  },
  {
   "cell_type": "code",
   "execution_count": null,
   "metadata": {},
   "outputs": [],
   "source": [
    "# Стандартизация данных (LASSO чувствителен к масштабу данных)\n",
    "scaler = StandardScaler()\n",
    "X_train_scaled = scaler.fit_transform(X_train)\n",
    "X_test_scaled = scaler.transform(X_test)\n",
    "\n",
    "# Обучение модели LASSO (логистическая регрессия с L1-регуляризацией)  (penalty='l1'). \n",
    "# Параметр C контролирует силу регуляризации: меньшее значение C увеличивает силу регуляризации, что приводит к отбору меньшего числа признаков.\n",
    "lasso_model = LogisticRegression(penalty='l1', solver='liblinear', C=0.5, random_state=42)\n",
    "lasso_model.fit(X_train_scaled, y_train)\n",
    "\n",
    "# Предсказание на тестовой выборке\n",
    "y_pred = lasso_model.predict(X_test_scaled)"
   ]
  },
  {
   "cell_type": "code",
   "execution_count": null,
   "metadata": {},
   "outputs": [],
   "source": [
    "# Оценка модели\n",
    "accuracy = accuracy_score(y_test, y_pred)\n",
    "roc_auc = roc_auc_score(y_test, lasso_model.predict_proba(X_test_scaled)[:, 1])\n",
    "print(f'Accuracy: {accuracy:.2f}')\n",
    "print(f'ROC-AUC: {roc_auc:.2f}')"
   ]
  },
  {
   "cell_type": "code",
   "execution_count": null,
   "metadata": {},
   "outputs": [],
   "source": [
    "# Матрица ошибок\n",
    "conf_matrix = confusion_matrix(y_test, y_pred)\n",
    "sns.heatmap(conf_matrix, annot=True, fmt='d', cmap='Blues', xticklabels=['Group 0', 'Group 1'], yticklabels=['Group 0', 'Group 1'])\n",
    "plt.xlabel('Predicted')\n",
    "plt.ylabel('Actual')\n",
    "plt.title('Confusion Matrix')\n",
    "plt.show()"
   ]
  },
  {
   "cell_type": "code",
   "execution_count": null,
   "metadata": {},
   "outputs": [],
   "source": [
    "# Вывод коэффициентов LASSO\n",
    "coef_df = pd.DataFrame({\n",
    "    'Feature': X.columns,\n",
    "    'Coefficient': lasso_model.coef_[0]\n",
    "})\n",
    "coef_df = coef_df.sort_values(by='Coefficient', key=abs, ascending=False)\n",
    "\n",
    "# Отбор наиболее важных признаков (ненулевые коэффициенты)\n",
    "important_features = coef_df[coef_df['Coefficient'] != 0]\n",
    "print(\"Наиболее важные признаки:\")\n",
    "print(important_features)"
   ]
  },
  {
   "cell_type": "code",
   "execution_count": null,
   "metadata": {},
   "outputs": [],
   "source": [
    "# Визуализация коэффициентов\n",
    "plt.figure(figsize=(10, 6))\n",
    "plt.barh(important_features['Feature'], important_features['Coefficient'])\n",
    "plt.xlabel('Коэффициент LASSO')\n",
    "plt.ylabel('Признак')\n",
    "plt.title('Важность признаков (LASSO коэффициенты)')\n",
    "plt.show()"
   ]
  },
  {
   "cell_type": "code",
   "execution_count": null,
   "metadata": {},
   "outputs": [],
   "source": [
    "from sklearn.ensemble import RandomForestClassifier"
   ]
  },
  {
   "cell_type": "code",
   "execution_count": null,
   "metadata": {},
   "outputs": [],
   "source": [
    "# Разделение на обучающую и тестовую выборки\n",
    "X_train, X_test, y_train, y_test = train_test_split(X, y, test_size=0.2, random_state=42)\n",
    "\n",
    "# Обучение модели случайного леса\n",
    "model = RandomForestClassifier(n_estimators=100, random_state=42)\n",
    "model.fit(X_train, y_train)\n",
    "\n",
    "# Предсказание на тестовой выборке\n",
    "y_pred = model.predict(X_test)\n",
    "\n",
    "# Оценка модели\n",
    "accuracy = accuracy_score(y_test, y_pred)\n",
    "roc_auc = roc_auc_score(y_test, model.predict_proba(X_test)[:, 1])\n",
    "print(f'Accuracy: {accuracy}, ROC-AUC: {roc_auc}')"
   ]
  },
  {
   "cell_type": "code",
   "execution_count": null,
   "metadata": {},
   "outputs": [],
   "source": [
    "# Матрица ошибок\n",
    "conf_matrix = confusion_matrix(y_test, y_pred)\n",
    "sns.heatmap(conf_matrix, annot=True, fmt='d', cmap='Blues')\n",
    "plt.xlabel('Predicted')\n",
    "plt.ylabel('Actual')\n",
    "plt.show()"
   ]
  },
  {
   "cell_type": "code",
   "execution_count": null,
   "metadata": {},
   "outputs": [],
   "source": [
    "# Важность признаков\n",
    "importances = model.feature_importances_\n",
    "feature_importances = pd.Series(importances, index=X.columns)\n",
    "feature_importances.sort_values(ascending=False).plot(kind='bar')\n",
    "plt.title('Feature Importances')\n",
    "plt.show()"
   ]
  },
  {
   "cell_type": "code",
   "execution_count": null,
   "metadata": {},
   "outputs": [],
   "source": [
    "# Подбор гиперпараметров с помощью GridSearchCV для метода LASSO\n",
    "\n",
    "from sklearn.model_selection import GridSearchCV\n",
    "import numpy as np"
   ]
  },
  {
   "cell_type": "code",
   "execution_count": null,
   "metadata": {},
   "outputs": [],
   "source": [
    "# Определение диапазона значений для гиперпараметра C\n",
    "param_grid = {'C': np.logspace(-4, 4, 20)}  # Например, от 10^-4 до 10^4\n",
    "\n",
    "# Создание модели LASSO с кросс-валидацией\n",
    "lasso_cv = GridSearchCV(\n",
    "    LogisticRegression(penalty='l1', solver='liblinear', random_state=42),\n",
    "    param_grid,\n",
    "    scoring='roc_auc',  # Можно использовать 'accuracy' или другую метрику\n",
    "    cv=5,  # Количество фолдов для кросс-валидации\n",
    "    n_jobs=-1  # Использовать все доступные ядра процессора\n",
    ")\n",
    "\n",
    "# Обучение модели с кросс-валидацией\n",
    "lasso_cv.fit(X_train_scaled, y_train)\n",
    "\n",
    "# Вывод лучшего значения C\n",
    "best_C = lasso_cv.best_params_['C']\n",
    "print(f'Лучшее значение C: {best_C}')\n",
    "\n",
    "# Использование лучшей модели для предсказания\n",
    "best_lasso_model = lasso_cv.best_estimator_\n",
    "y_pred = best_lasso_model.predict(X_test_scaled)\n",
    "\n",
    "# Оценка лучшей модели\n",
    "accuracy = accuracy_score(y_test, y_pred)\n",
    "roc_auc = roc_auc_score(y_test, best_lasso_model.predict_proba(X_test_scaled)[:, 1])\n",
    "print(f'Accuracy: {accuracy:.2f}')\n",
    "print(f'ROC-AUC: {roc_auc:.2f}')\n",
    "\n",
    "# Матрица ошибок\n",
    "conf_matrix = confusion_matrix(y_test, y_pred)\n",
    "sns.heatmap(conf_matrix, annot=True, fmt='d', cmap='Blues', xticklabels=['Group 0', 'Group 1'], yticklabels=['Group 0', 'Group 1'])\n",
    "plt.xlabel('Predicted')\n",
    "plt.ylabel('Actual')\n",
    "plt.title('Confusion Matrix')\n",
    "plt.show()\n",
    "\n",
    "# Вывод коэффициентов лучшей модели LASSO\n",
    "coef_df = pd.DataFrame({\n",
    "    'Feature': X.columns,\n",
    "    'Coefficient': best_lasso_model.coef_[0]\n",
    "})\n",
    "coef_df = coef_df.sort_values(by='Coefficient', key=abs, ascending=False)\n",
    "\n",
    "# Отбор наиболее важных признаков (ненулевые коэффициенты)\n",
    "important_features = coef_df[coef_df['Coefficient'] != 0]\n",
    "print(\"Наиболее важные признаки:\")\n",
    "print(important_features)\n",
    "\n",
    "# Визуализация коэффициентов\n",
    "plt.figure(figsize=(10, 6))\n",
    "plt.barh(important_features['Feature'], important_features['Coefficient'])\n",
    "plt.xlabel('Коэффициент LASSO')\n",
    "plt.ylabel('Признак')\n",
    "plt.title('Важность признаков (LASSO коэффициенты)')\n",
    "plt.show()"
   ]
  },
  {
   "cell_type": "code",
   "execution_count": null,
   "metadata": {},
   "outputs": [],
   "source": [
    "import joblib\n",
    "\n",
    "# Сохранение модели в файл\n",
    "model_filename = 'lasso_model.pkl'\n",
    "joblib.dump(best_lasso_model, model_filename)\n",
    "print(f\"Модель сохранена в файл: {model_filename}\")\n",
    "\n",
    "# Сохранение стандартизатора (scaler) в файл\n",
    "scaler_filename = 'scaler.pkl'\n",
    "joblib.dump(scaler, scaler_filename)\n",
    "print(f\"Стандартизатор сохранен в файл: {scaler_filename}\")"
   ]
  }
 ],
 "metadata": {
  "kernelspec": {
   "display_name": ".venv",
   "language": "python",
   "name": "python3"
  },
  "language_info": {
   "codemirror_mode": {
    "name": "ipython",
    "version": 3
   },
   "file_extension": ".py",
   "mimetype": "text/x-python",
   "name": "python",
   "nbconvert_exporter": "python",
   "pygments_lexer": "ipython3",
   "version": "3.12.3"
  }
 },
 "nbformat": 4,
 "nbformat_minor": 2
}
